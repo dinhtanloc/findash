{
 "cells": [
  {
   "cell_type": "code",
   "execution_count": 1,
   "metadata": {},
   "outputs": [
    {
     "name": "stdout",
     "output_type": "stream",
     "text": [
      "Warning - Certain functionality \n",
      "             requires requests_html, which is not installed.\n",
      "             \n",
      "             Install using: \n",
      "             pip install requests_html\n",
      "             \n",
      "             After installation, you may have to restart your Python session.\n",
      "['-', '-', '-', '-', '-', '-', '-', '-', '-', '-', '--', '--', '--', '--', '--', '--', '--', '--', '--', '--', '--', '--', '--', '--', '--', '--', '--', '--', '--', '--', '--', '--', '--', '--', '--', '--', '--', '--', '--', '--', '--', '--', '--', '--', '--', '--', '--', '--', '--', '--', '--', '--', '--', '--', '--', '--', '--', '--', '--', '--', '--', '---', '---', '---', '---', '---', '---', '---', '---', '---', '---', '---', '---', '---', '---', '---', '---', '---', '---', '---', '---', '---', '---', '---', '---', '---', '---', '---', '---', '---', '---', '---', '---', '---', '---', '---', '---', '---', '---', '---', '---', '---', '---', '---', '---', '---', '---', '---', '---', '---', '---', '---', '---', '---', '---', '---', '---', '---', '---', '---', '---', '---', '---', '---', '---', '---', '---', '---', '---', '---', '---', '---', '---', '---', '---', '---', '---', '---', '---', '---', '---', '---', '---', '---', '---', '---', '---', '---', '---', '---', '---', '---', '---', '---', '---', '---', '---', '---', '---', '---', '---', '---', '---', '---', '---', '---', '---', '---', '---', '---', '---', '---', '---', '---', '---', '---', '---', '---', '---', '---', '---', '---', '---', '---', '---', '---', '---', '---', '---', '---', '---', '---', '---', '---', '---', '---', '---', '---', '---', '---', '---', '---', '---', '---', '---', '---', '---', '---', '---', '---', '---', '---', '---', '---', '---', '---', '---', '---', '---', '---', '---', '---', '---', '---', '---', '---', '---', '---', '---', '---', '---', '---', '---', '---', '---', '---', '---', '---', '---', '---', '---', '---', '---', '---', '---', '---', '---', '---', '---', '---', '---', '---', '---', '---', '---', '---', '---', '---', '---', '---', '---', '---', '---', '---', '---', '---', '---', '---', '---', '---', '---', '---', '---', '---', '---', '---', '---', '---', '---', '---', '---', '---', '---', '---', '---', '---', '---', '---', '---', '---', '---', '---', '---', '---', '---', '---', '---', '---', '---', '---', '---', '---', '---', '---', '---', '---', '---', '---', '---', '---', '---', '---', '---', '---', '---', '---', '---', '---', '---', '---', '---', '---', '---', '---', '---', '---', '---', '---', '---', '---', '---', '---', '---', '---', '---', '---', '---', '---', '---', '---', '---', '---', '---', '---', '---', '---', '---', '---', '---', '---', '----', '----', '----', '----', '----', '----', '----', '----', '----', '----', '----', '----', '----', '----', '----', '----', '----', '----', '----', '----', '----', '----', '----', '----', '----', '----', '----', '----', '----', '----', '----', '----', '----', '----', '----', '----', '----', '----', '----', '----', '----', '----', '----', '----', '----', '----', '----', '----', '----', '----', '----', '----', '----', '----', '----', '----', '----', '----', '----', '----', '----', '----', '----', '----', '----', '----', '----', '----', '----', '----', '----', '----', '----', '----', '----', '----', '----', '----', '----', '----', '----', '----', '----', '----', '----', '----', '----', '----', '----', '----', '----', '----', '----', '----', '----', '----', '----', '----', '----', '----', '----', '----', '----', '----', '----', '----', '----', '----', '----', '----', '----', '----', '----', '----', '----', '----', '----', '----', '----', '----', '----', '----', '----', '----', '----', '----', '----', '----', '----', '----', '----', '----', '----', '----', '----', '----', '----', '----', '----', '----', '----', '----', '----', '----', '----', '----', '----', '----', '----', '----', '-----', '-----', '-----']\n"
     ]
    }
   ],
   "source": [
    "import yahoo_fin.stock_info as si\n",
    "print(si.tickers_sp500())\n"
   ]
  },
  {
   "cell_type": "code",
   "execution_count": 2,
   "metadata": {},
   "outputs": [
    {
     "name": "stdout",
     "output_type": "stream",
     "text": [
      "Requirement already satisfied: requests-html in c:\\users\\admin\\miniconda3\\envs\\ai_prj_final\\lib\\site-packages (0.10.0)\n",
      "Requirement already satisfied: requests in c:\\users\\admin\\miniconda3\\envs\\ai_prj_final\\lib\\site-packages (from requests-html) (2.32.3)\n",
      "Requirement already satisfied: pyquery in c:\\users\\admin\\miniconda3\\envs\\ai_prj_final\\lib\\site-packages (from requests-html) (2.0.0)\n",
      "Requirement already satisfied: fake-useragent in c:\\users\\admin\\miniconda3\\envs\\ai_prj_final\\lib\\site-packages (from requests-html) (1.5.1)\n",
      "Requirement already satisfied: parse in c:\\users\\admin\\miniconda3\\envs\\ai_prj_final\\lib\\site-packages (from requests-html) (1.20.2)\n",
      "Requirement already satisfied: bs4 in c:\\users\\admin\\miniconda3\\envs\\ai_prj_final\\lib\\site-packages (from requests-html) (0.0.2)\n",
      "Requirement already satisfied: w3lib in c:\\users\\admin\\miniconda3\\envs\\ai_prj_final\\lib\\site-packages (from requests-html) (2.2.1)\n",
      "Requirement already satisfied: pyppeteer>=0.0.14 in c:\\users\\admin\\miniconda3\\envs\\ai_prj_final\\lib\\site-packages (from requests-html) (2.0.0)\n",
      "Requirement already satisfied: appdirs<2.0.0,>=1.4.3 in c:\\users\\admin\\miniconda3\\envs\\ai_prj_final\\lib\\site-packages (from pyppeteer>=0.0.14->requests-html) (1.4.4)\n",
      "Requirement already satisfied: certifi>=2023 in c:\\users\\admin\\miniconda3\\envs\\ai_prj_final\\lib\\site-packages (from pyppeteer>=0.0.14->requests-html) (2024.7.4)\n",
      "Requirement already satisfied: importlib-metadata>=1.4 in c:\\users\\admin\\miniconda3\\envs\\ai_prj_final\\lib\\site-packages (from pyppeteer>=0.0.14->requests-html) (8.4.0)\n",
      "Requirement already satisfied: pyee<12.0.0,>=11.0.0 in c:\\users\\admin\\miniconda3\\envs\\ai_prj_final\\lib\\site-packages (from pyppeteer>=0.0.14->requests-html) (11.1.0)\n",
      "Requirement already satisfied: tqdm<5.0.0,>=4.42.1 in c:\\users\\admin\\miniconda3\\envs\\ai_prj_final\\lib\\site-packages (from pyppeteer>=0.0.14->requests-html) (4.66.5)\n",
      "Requirement already satisfied: urllib3<2.0.0,>=1.25.8 in c:\\users\\admin\\miniconda3\\envs\\ai_prj_final\\lib\\site-packages (from pyppeteer>=0.0.14->requests-html) (1.26.19)\n",
      "Requirement already satisfied: websockets<11.0,>=10.0 in c:\\users\\admin\\miniconda3\\envs\\ai_prj_final\\lib\\site-packages (from pyppeteer>=0.0.14->requests-html) (10.4)\n",
      "Requirement already satisfied: beautifulsoup4 in c:\\users\\admin\\miniconda3\\envs\\ai_prj_final\\lib\\site-packages (from bs4->requests-html) (4.12.3)\n",
      "Requirement already satisfied: lxml>=2.1 in c:\\users\\admin\\miniconda3\\envs\\ai_prj_final\\lib\\site-packages (from pyquery->requests-html) (5.3.0)\n",
      "Requirement already satisfied: cssselect>=1.2.0 in c:\\users\\admin\\miniconda3\\envs\\ai_prj_final\\lib\\site-packages (from pyquery->requests-html) (1.2.0)\n",
      "Requirement already satisfied: charset-normalizer<4,>=2 in c:\\users\\admin\\miniconda3\\envs\\ai_prj_final\\lib\\site-packages (from requests->requests-html) (3.3.2)\n",
      "Requirement already satisfied: idna<4,>=2.5 in c:\\users\\admin\\miniconda3\\envs\\ai_prj_final\\lib\\site-packages (from requests->requests-html) (3.8)\n",
      "Requirement already satisfied: zipp>=0.5 in c:\\users\\admin\\miniconda3\\envs\\ai_prj_final\\lib\\site-packages (from importlib-metadata>=1.4->pyppeteer>=0.0.14->requests-html) (3.20.0)\n",
      "Requirement already satisfied: typing-extensions in c:\\users\\admin\\miniconda3\\envs\\ai_prj_final\\lib\\site-packages (from pyee<12.0.0,>=11.0.0->pyppeteer>=0.0.14->requests-html) (4.12.2)\n",
      "Requirement already satisfied: colorama in c:\\users\\admin\\miniconda3\\envs\\ai_prj_final\\lib\\site-packages (from tqdm<5.0.0,>=4.42.1->pyppeteer>=0.0.14->requests-html) (0.4.6)\n",
      "Requirement already satisfied: soupsieve>1.2 in c:\\users\\admin\\miniconda3\\envs\\ai_prj_final\\lib\\site-packages (from beautifulsoup4->bs4->requests-html) (2.6)\n"
     ]
    }
   ],
   "source": [
    "!pip install requests-html"
   ]
  },
  {
   "cell_type": "code",
   "execution_count": 2,
   "metadata": {},
   "outputs": [
    {
     "name": "stderr",
     "output_type": "stream",
     "text": [
      "[                       0%                       ]"
     ]
    },
    {
     "name": "stdout",
     "output_type": "stream",
     "text": [
      "  Symbol             Security             GICS Sector  \\\n",
      "0    MMM                   3M             Industrials   \n",
      "1    AOS          A. O. Smith             Industrials   \n",
      "2    ABT  Abbott Laboratories             Health Care   \n",
      "3   ABBV               AbbVie             Health Care   \n",
      "4    ACN            Accenture  Information Technology   \n",
      "\n",
      "                GICS Sub-Industry    Headquarters Location  Date added  \\\n",
      "0        Industrial Conglomerates    Saint Paul, Minnesota  1957-03-04   \n",
      "1               Building Products     Milwaukee, Wisconsin  2017-07-26   \n",
      "2           Health Care Equipment  North Chicago, Illinois  1957-03-04   \n",
      "3                   Biotechnology  North Chicago, Illinois  2012-12-31   \n",
      "4  IT Consulting & Other Services          Dublin, Ireland  2011-07-06   \n",
      "\n",
      "       CIK      Founded  \n",
      "0    66740         1902  \n",
      "1    91142         1916  \n",
      "2     1800         1888  \n",
      "3  1551152  2013 (1888)  \n",
      "4  1467373         1989  \n"
     ]
    },
    {
     "name": "stderr",
     "output_type": "stream",
     "text": [
      "[*********************100%***********************]  503 of 503 completed\n",
      "\n",
      "10 Failed downloads:\n",
      "['BKNG']: OperationalError('database is locked')\n",
      "['GEHC', 'CEG', 'SOLV', 'GEV', 'SW', 'VLTO', 'KVUE']: YFPricesMissingError('$%ticker%: possibly delisted; no price data found  (1d 2021-1-1 -> 2021-7-12) (Yahoo error = \"Data doesn\\'t exist for startDate = 1609477200, endDate = 1626062400\")')\n",
      "['BF.B']: YFPricesMissingError('$%ticker%: possibly delisted; no price data found  (1d 2021-1-1 -> 2021-7-12)')\n",
      "['BRK.B']: YFTzMissingError('$%ticker%: possibly delisted; no timezone found')\n"
     ]
    },
    {
     "name": "stdout",
     "output_type": "stream",
     "text": [
      "Ticker                              A    AAL        AAPL       ABBV  \\\n",
      "Date                                                                  \n",
      "2021-01-04 00:00:00+00:00  115.980728  15.13  126.683449  90.489517   \n",
      "2021-01-05 00:00:00+00:00  116.928993  15.43  128.249725  91.425224   \n",
      "2021-01-06 00:00:00+00:00  120.135468  15.52  123.932648  90.635452   \n",
      "2021-01-07 00:00:00+00:00  123.332184  15.38  128.161606  91.605492   \n",
      "2021-01-08 00:00:00+00:00  124.212013  15.13  129.267822  92.086220   \n",
      "\n",
      "Ticker                           ABNB         ABT       ACGL         ACN  \\\n",
      "Date                                                                       \n",
      "2021-01-04 00:00:00+00:00  139.149994  102.054939  34.900002  243.104004   \n",
      "2021-01-05 00:00:00+00:00  148.300003  103.317642  35.040001  244.487961   \n",
      "2021-01-06 00:00:00+00:00  142.770004  103.102516  36.580002  247.161102   \n",
      "2021-01-07 00:00:00+00:00  151.270004  104.103340  36.240002  249.493011   \n",
      "2021-01-08 00:00:00+00:00  149.770004  104.393295  36.439999  250.403030   \n",
      "\n",
      "Ticker                           ADBE         ADI  ...         WTW         WY  \\\n",
      "Date                                               ...                          \n",
      "2021-01-04 00:00:00+00:00  485.339996  137.128540  ...  193.992233  28.068602   \n",
      "2021-01-05 00:00:00+00:00  485.690002  139.579620  ...  192.373260  28.333797   \n",
      "2021-01-06 00:00:00+00:00  466.309998  140.208832  ...  193.992233  28.479239   \n",
      "2021-01-07 00:00:00+00:00  477.739990  146.134583  ...  195.468384  28.752991   \n",
      "2021-01-08 00:00:00+00:00  485.100006  147.195770  ...  193.935074  28.556232   \n",
      "\n",
      "Ticker                           WYNN        XEL        XOM         XYL  \\\n",
      "Date                                                                      \n",
      "2021-01-04 00:00:00+00:00  105.198273  58.838463  35.452156   95.697823   \n",
      "2021-01-05 00:00:00+00:00  108.435913  58.264950  37.160702   95.582642   \n",
      "2021-01-06 00:00:00+00:00  109.085388  59.555359  38.108940   99.614433   \n",
      "2021-01-07 00:00:00+00:00  108.002907  58.390415  38.407936  104.135818   \n",
      "2021-01-08 00:00:00+00:00  107.294357  58.928074  38.835064  103.079865   \n",
      "\n",
      "Ticker                           YUM         ZBH        ZBRA         ZTS  \n",
      "Date                                                                      \n",
      "2021-01-04 00:00:00+00:00  98.747391  144.795792  378.130005  158.854538  \n",
      "2021-01-05 00:00:00+00:00  98.756714  147.301086  380.570007  159.961578  \n",
      "2021-01-06 00:00:00+00:00  99.297951  151.498566  394.820007  162.311508  \n",
      "2021-01-07 00:00:00+00:00  98.542068  150.600525  409.100006  162.165833  \n",
      "2021-01-08 00:00:00+00:00  99.988472  150.269577  405.470001  163.243713  \n",
      "\n",
      "[5 rows x 503 columns]\n"
     ]
    }
   ],
   "source": [
    "# Import packages\n",
    "import yfinance as yf\n",
    "import pandas as pd\n",
    "\n",
    "# Read and print the stock tickers that make up S&P500\n",
    "tickers = pd.read_html(\n",
    "    'https://en.wikipedia.org/wiki/List_of_S%26P_500_companies')[0]\n",
    "print(tickers.head())\n",
    "\n",
    "# Get the data for this tickers from yahoo finance\n",
    "data = yf.download(tickers.Symbol.to_list(),'2021-1-1','2021-7-12', auto_adjust=True)['Close']\n",
    "print(data.head())"
   ]
  },
  {
   "cell_type": "code",
   "execution_count": null,
   "metadata": {},
   "outputs": [],
   "source": []
  }
 ],
 "metadata": {
  "kernelspec": {
   "display_name": "AI_prj_final",
   "language": "python",
   "name": "python3"
  },
  "language_info": {
   "codemirror_mode": {
    "name": "ipython",
    "version": 3
   },
   "file_extension": ".py",
   "mimetype": "text/x-python",
   "name": "python",
   "nbconvert_exporter": "python",
   "pygments_lexer": "ipython3",
   "version": "3.10.14"
  }
 },
 "nbformat": 4,
 "nbformat_minor": 2
}
